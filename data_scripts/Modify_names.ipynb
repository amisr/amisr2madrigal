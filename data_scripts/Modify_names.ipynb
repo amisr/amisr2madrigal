{
 "cells": [
  {
   "cell_type": "raw",
   "id": "daff6d09-a2af-4179-aad3-2faedf6bba6d",
   "metadata": {},
   "source": [
    "This notebook has been written to do a review of all uploaded experiments and their files and change the name of files and files inside text"
   ]
  },
  {
   "cell_type": "code",
   "execution_count": 30,
   "id": "3a2818f1-cc4b-4894-b58b-94904c344971",
   "metadata": {},
   "outputs": [],
   "source": [
    "import os\n",
    "import glob"
   ]
  },
  {
   "cell_type": "code",
   "execution_count": 31,
   "id": "5f49907a-3307-4520-b63e-84a56c248ed7",
   "metadata": {},
   "outputs": [
    {
     "data": {
      "text/plain": [
       "['/opt/madrigal/madrigal3/experiments0/2022',\n",
       " '/opt/madrigal/madrigal3/experiments0/2023']"
      ]
     },
     "execution_count": 31,
     "metadata": {},
     "output_type": "execute_result"
    }
   ],
   "source": [
    "basepath = '/opt/madrigal/madrigal3/experiments0'\n",
    "years = sorted(glob.glob(os.path.join(basepath,\"????\")))\n",
    "years"
   ]
  },
  {
   "cell_type": "code",
   "execution_count": 32,
   "id": "48c99109-949d-40c7-8a1f-829a49bf1147",
   "metadata": {},
   "outputs": [
    {
     "name": "stdout",
     "output_type": "stream",
     "text": [
      "/opt/madrigal/madrigal3/experiments0/2022 ['/opt/madrigal/madrigal3/experiments0/2022/pfa']\n",
      "/opt/madrigal/madrigal3/experiments0/2023 ['/opt/madrigal/madrigal3/experiments0/2023/pfa']\n"
     ]
    }
   ],
   "source": [
    "basepath = '/opt/madrigal/madrigal3/experiments0'\n",
    "years = sorted(glob.glob(os.path.join(basepath,\"????\")))\n",
    "for year in years:\n",
    "    instruments = sorted(glob.glob(os.path.join(year,\"???\")))\n",
    "    print(year,instruments)"
   ]
  },
  {
   "cell_type": "code",
   "execution_count": 42,
   "id": "27e8781d-02de-4c19-a7ec-56567fdfa636",
   "metadata": {},
   "outputs": [],
   "source": [
    "def get_txt(fname):\n",
    "    with open(fname,\"r\") as fp:\n",
    "        return fp.read()\n",
    "\n",
    "def change_fname1(fname):\n",
    "    if 'unfit' in fname:\n",
    "        target = fname.replace(\"unfit\",\"nenotr\")\n",
    "        os.rename(fname,target)\n",
    "\n",
    "def change_infname1(fname):\n",
    "    txt0 = get_txt(fname)\n",
    "    with open(fname,\"w\") as fp:\n",
    "        fp.write(txt0.replace(\"unfit\",\"nenotr\"))\n",
    "        \n",
    "basepath = '/opt/madrigal/madrigal3/experiments0'\n",
    "years = sorted(glob.glob(os.path.join(basepath,\"????\")))\n",
    "for year in years:\n",
    "    instruments = sorted(glob.glob(os.path.join(year,\"???\")))\n",
    "    for instrument in instruments:\n",
    "        experiments = sorted(glob.glob(os.path.join(instrument,\"*\")))\n",
    "        for experiment in experiments:\n",
    "            h5files = sorted(glob.glob(os.path.join(experiment,\"*.h5\")))\n",
    "            plothtmls = sorted(glob.glob(os.path.join(experiment,\"*.html\")))\n",
    "            #exptab = os.path.join(experiment,\"expTab.txt\")\n",
    "            fileTab = os.path.join(experiment,\"fileTab.txt\")\n",
    "            overviewfiles = sorted(glob.glob(os.path.join(experiment,\"overview\",\"*\")))\n",
    "            figures = sorted(glob.glob(os.path.join(experiment,\"plots\",\"*\")))\n",
    "            # do the changes\n",
    "            change_infname1(fileTab)\n",
    "            for plothtml in plothtmls:\n",
    "                change_infname1(plothtml)\n",
    "            for fnames in h5files + overviewfiles + figures:\n",
    "                change_fname1(fnames)"
   ]
  },
  {
   "cell_type": "code",
   "execution_count": 41,
   "id": "17474978-cf6d-49c0-ae2f-516843568776",
   "metadata": {},
   "outputs": [
    {
     "name": "stdout",
     "output_type": "stream",
     "text": [
      "pfa20230331.003_ac_nenotr_05min.001.h5,30000165,1000204,1,0,1,1,20230411,172514,final,0,Pablo Reyes,pablo.reyes@sri.com\n",
      "pfa20230331.003_ac_fit_05min.001.h5,30000165,2000204,1,0,1,0,20230411,172800,final,0,Pablo Reyes,pablo.reyes@sri.com\n",
      "pfa20230331.003_ac_nenotr_10min.001.h5,30000165,1000205,1,0,1,0,20230411,173207,final,0,Pablo Reyes,pablo.reyes@sri.com\n",
      "pfa20230331.003_ac_fit_10min.001.h5,30000165,2000205,1,0,1,0,20230411,173327,final,0,Pablo Reyes,pablo.reyes@sri.com\n",
      "pfa20230331.003_ac_nenotr_15min.001.h5,30000165,1000206,1,0,1,0,20230411,173608,final,0,Pablo Reyes,pablo.reyes@sri.com\n",
      "pfa20230331.003_ac_fit_15min.001.h5,30000165,2000206,1,0,1,0,20230411,173704,final,0,Pablo Reyes,pablo.reyes@sri.com\n",
      "pfa20230331.003_ac_nenotr_20min.001.h5,30000165,1000207,1,0,1,0,20230411,173902,final,0,Pablo Reyes,pablo.reyes@sri.com\n",
      "pfa20230331.003_ac_fit_20min.001.h5,30000165,2000207,1,0,1,0,20230411,173943,final,0,Pablo Reyes,pablo.reyes@sri.com\n",
      "pfa20230331.003_lp_nenotr_05min.001.h5,30000165,1000104,1,0,1,0,20230411,174631,final,0,Pablo Reyes,pablo.reyes@sri.com\n",
      "pfa20230331.003_lp_fit_05min.001.h5,30000165,2000104,1,0,1,0,20230411,175132,final,0,Pablo Reyes,pablo.reyes@sri.com\n",
      "pfa20230331.003_lp_nenotr_10min.001.h5,30000165,1000105,1,0,1,0,20230411,175613,final,0,Pablo Reyes,pablo.reyes@sri.com\n",
      "pfa20230331.003_lp_fit_10min.001.h5,30000165,2000105,1,0,1,0,20230411,175847,final,0,Pablo Reyes,pablo.reyes@sri.com\n",
      "pfa20230331.003_lp_nenotr_15min.001.h5,30000165,1000106,1,0,1,0,20230411,180141,final,0,Pablo Reyes,pablo.reyes@sri.com\n",
      "pfa20230331.003_lp_fit_15min.001.h5,30000165,2000106,1,0,1,0,20230411,180323,final,0,Pablo Reyes,pablo.reyes@sri.com\n",
      "pfa20230331.003_lp_nenotr_20min.001.h5,30000165,1000107,1,0,1,0,20230411,180532,final,0,Pablo Reyes,pablo.reyes@sri.com\n",
      "pfa20230331.003_lp_fit_20min.001.h5,30000165,2000107,1,0,1,0,20230411,180650,final,0,Pablo Reyes,pablo.reyes@sri.com\n",
      "pfa20230331.003_05min-lp_vvels_05min.001.h5,30000165,3001404,1,0,1,0,20230411,180719,final,0,Pablo Reyes,pablo.reyes@sri.com\n",
      "\n"
     ]
    }
   ],
   "source": [
    "print(get_txt(fileTab)) # where nenotr is there was unfit,. terrible name choice"
   ]
  },
  {
   "cell_type": "code",
   "execution_count": 36,
   "id": "b5b13e67-4bc8-4b9e-8f53-ec6d69f0dbc3",
   "metadata": {},
   "outputs": [],
   "source": []
  },
  {
   "cell_type": "code",
   "execution_count": null,
   "id": "ca9ae628-bf69-4640-8f70-33b5a09d4aaa",
   "metadata": {},
   "outputs": [],
   "source": []
  }
 ],
 "metadata": {
  "kernelspec": {
   "display_name": "Python py3.6",
   "language": "python",
   "name": "py36"
  },
  "language_info": {
   "codemirror_mode": {
    "name": "ipython",
    "version": 3
   },
   "file_extension": ".py",
   "mimetype": "text/x-python",
   "name": "python",
   "nbconvert_exporter": "python",
   "pygments_lexer": "ipython3",
   "version": "3.6.8"
  }
 },
 "nbformat": 4,
 "nbformat_minor": 5
}
